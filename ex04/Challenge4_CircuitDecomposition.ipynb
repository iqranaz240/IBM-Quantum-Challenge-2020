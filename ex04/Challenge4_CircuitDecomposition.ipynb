{
 "cells": [
  {
   "cell_type": "markdown",
   "metadata": {},
   "source": [
    "# Exercise 4: Circuit Decomposition\n",
    "Wow! If you managed to solve the first three exercises, congratulations! The fourth problem is supposed to puzzle even the quantum experts among you, so don’t worry if you cannot solve it. If you can, hats off to you!\n",
    "\n",
    "You may recall from your quantum mechanics course that quantum theory is unitary. Therefore, the evolution of any (closed) system can be described by a unitary. But given an arbitrary unitary, can you actually implement it on your quantum computer?\n",
    "\n",
    "**\"A set of quantum gates is said to be universal if any unitary transformation of the quantum data can be efficiently approximated arbitrarily well as a sequence of gates in the set.\"** (https://qiskit.org/textbook/ch-algorithms/defining-quantum-circuits.html)\n",
    "\n",
    "Every gate you run on the IBM Quantum Experience is transpiled into single qubit rotations and CNOT (CX) gates. We know that these constitute a universal gate set, which implies that any unitary can be implemented using only these gates. However, in general it is not easy to find a good decomposition for an arbitrary unitary. Your task is to find such a decomposition.\n",
    "\n",
    "You are given the following unitary:"
   ]
  },
  {
   "cell_type": "code",
   "execution_count": null,
   "metadata": {
    "scrolled": false
   },
   "outputs": [],
   "source": [
    "from may4_challenge.ex4 import get_unitary\n",
    "U = get_unitary()\n",
    "# print(U)\n",
    "print(\"U has shape\", U.shape)"
   ]
  },
  {
   "cell_type": "markdown",
   "metadata": {},
   "source": [
    "#### What circuit would make such a complicated unitary?\n",
    "\n",
    "Is there some symmetry, or is it random? We just updated Qiskit with the introduction of a quantum circuit library (https://github.com/Qiskit/qiskit-terra/tree/master/qiskit/circuit/library). This library gives users access to a rich set of well-studied circuit families, instances of which can be used as benchmarks (quantum volume), as building blocks in building more complex circuits (adders), or as tools to explore quantum computational advantage over classical computation (instantaneous quantum polynomial complexity circuits)."
   ]
  },
  {
   "cell_type": "code",
   "execution_count": null,
   "metadata": {},
   "outputs": [],
   "source": [
    "from qiskit import QuantumCircuit\n",
    "from may4_challenge.ex4 import check_circuit, submit_circuit"
   ]
  },
  {
   "cell_type": "markdown",
   "metadata": {},
   "source": [
    "**Using only single qubit rotations and CNOT gates, find a quantum circuit that approximates that unitary $U$ by a unitary $V$ up to an error $\\varepsilon = 0.01$, such that $\\lVert U - V\\rVert_2 \\leq \\varepsilon$ !** \n",
    "\n",
    "Note that the norm we are using here is the spectral norm, $\\qquad \\lVert A \\rVert_2 = \\max_{\\lVert \\psi \\rVert_2= 1} \\lVert A \\psi \\rVert$.\n",
    "\n",
    "This can be seen as the largest scaling factor that the matrix $A$ has on any initial (normalized) state $\\psi$. One can show that this norm corresponds to the largest singular value of $A$, i.e., the square root of the largest eigenvalue of the matrix $A^\\dagger A$, where $A^{\\dagger}$ denotes the conjugate transpose of $A$.\n",
    "\n",
    "**When you submit a circuit, we remove the global phase of the corresponding unitary $V$ before comparing it with $U$ using the spectral norm. For example, if you submit a circuit that generates $V = \\text{e}^{i\\theta}U$, we remove the global phase $\\text{e}^{i\\theta}$ from $V$ before computing the norm, and you will have a successful submission. As a result, you do not have to worry about matching the desired unitary, $U$, up to a global phase.**\n",
    "\n",
    "As the single-qubit gates have a much higher fidelity than the two-qubit gates, we will look at the number of CNOT-gates, $n_{cx}$, and the number of u3-gates, $n_{u3}$, to determine the cost of your decomposition as \n",
    "\n",
    "$$\n",
    "\\qquad \\text{cost} = 10 \\cdot n_{cx} + n_{u3}\n",
    "$$\n",
    "\n",
    "Try to optimize the cost of your decomposition. \n",
    "\n",
    "**Note that you will need to ensure that your circuit is composed only of $u3$ and $cx$ gates. The exercise is considered correctly solved if your cost is smaller than 1600.**\n",
    "\n",
    "---\n",
    "For useful tips to complete this exercise as well as pointers for communicating with other participants and asking questions, please take a look at the following [repository](https://github.com/qiskit-community/may4_challenge_exercises). You will also find a copy of these exercises, so feel free to edit and experiment with these notebooks.\n",
    "\n",
    "---"
   ]
  },
  {
   "cell_type": "code",
   "execution_count": null,
   "metadata": {},
   "outputs": [],
   "source": [
    "\n",
    "qc = QuantumCircuit(4)\n",
    "\n",
    "U = get_unitary()\n",
    "import numpy as np\n",
    "from numpy import pi\n",
    "#print(U)\n",
    "#print(\"U has shape\", U.shape)\n",
    "\n",
    "H = scipy.linalg.hadamard(16)/4\n",
    "U1 = np.dot(H, U)\n",
    "U2 = np.dot(U1, H)\n",
    "\n",
    "c = []\n",
    "for i in range (16):\n",
    "    c.append(U2[i,i])\n",
    "\n",
    "    c[0] = complex(1,0)\n",
    "c[3] = c[4] =c[13]= c[14]= complex(0,1)\n",
    "c[7] = c[9] =c[10]= complex(-1,0)\n",
    "c[1] =c[11]= complex(0.7,0.7)\n",
    "c[2]= c[12] = -c[1]\n",
    "c[5] = complex(0.7,-0.7)\n",
    "c[6] = c[8] =c[15]= -c[5]\n",
    "\n",
    "c1 = []\n",
    "for i in range (16):\n",
    "    c1.append(c[i]*complex(0, -1))\n",
    "\n",
    "    qc = QuantumCircuit(4)\n",
    "# print(pi)\n",
    "qc.u3(pi/2,0,pi,0)\n",
    "qc.u3(pi/2,0,pi,1)\n",
    "qc.u3(pi/2,0,pi,2)\n",
    "qc.u3(pi/2,0,pi,3)\n",
    "\n",
    "qc.diagonal(c1,[0,1,2,3])\n",
    "\n",
    "qc.u3(pi/2,0,pi,0)\n",
    "qc.u3(pi/2,0,pi,1)\n",
    "qc.u3(pi/2,0,pi,2)\n",
    "qc.u3(pi/2,0,pi,3)\n",
    "\n",
    "qc = transpile(qc, basis_gates = ['u3', 'cx'], seed_transpiler=0, optimization_level=3)"
   ]
  },
  {
   "cell_type": "code",
   "execution_count": null,
   "metadata": {},
   "outputs": [],
   "source": [
    "##### check your quantum circuit by running the next line\n",
    "check_circuit(qc)"
   ]
  },
  {
   "cell_type": "markdown",
   "metadata": {},
   "source": [
    "You can check whether your circuit is valid before submitting it with `check_circuit(qc)`. Once you have a valid solution, please submit it by running the following cell (delete the `#` before `submit_circuit`). You can re-submit at any time.\n"
   ]
  },
  {
   "cell_type": "code",
   "execution_count": null,
   "metadata": {},
   "outputs": [],
   "source": []
  }
 ],
 "metadata": {
  "kernelspec": {
   "display_name": "Python 3",
   "language": "python",
   "name": "python3"
  },
  "language_info": {
   "codemirror_mode": {
    "name": "ipython",
    "version": 3
   },
   "file_extension": ".py",
   "mimetype": "text/x-python",
   "name": "python",
   "nbconvert_exporter": "python",
   "pygments_lexer": "ipython3",
   "version": "3.7.4"
  }
 },
 "nbformat": 4,
 "nbformat_minor": 4
}
